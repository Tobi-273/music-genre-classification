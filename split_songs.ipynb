{
  "nbformat": 4,
  "nbformat_minor": 0,
  "metadata": {
    "colab": {
      "name": "split_songs.ipynb",
      "provenance": [],
      "collapsed_sections": [],
      "authorship_tag": "ABX9TyOeBUDQ4bBPY6XlJaIKt+eM",
      "include_colab_link": true
    },
    "kernelspec": {
      "name": "python3",
      "display_name": "Python 3"
    }
  },
  "cells": [
    {
      "cell_type": "markdown",
      "metadata": {
        "id": "view-in-github",
        "colab_type": "text"
      },
      "source": [
        "<a href=\"https://colab.research.google.com/github/Tobi-273/music-genre-classification/blob/main/split_songs.ipynb\" target=\"_parent\"><img src=\"https://colab.research.google.com/assets/colab-badge.svg\" alt=\"Open In Colab\"/></a>"
      ]
    },
    {
      "cell_type": "code",
      "metadata": {
        "colab": {
          "base_uri": "https://localhost:8080/"
        },
        "id": "uxrj70t6WLb8",
        "outputId": "2c36bc49-e065-4fb4-ba28-8e24c5788407"
      },
      "source": [
        "pip install pydub"
      ],
      "execution_count": 1,
      "outputs": [
        {
          "output_type": "stream",
          "text": [
            "Collecting pydub\n",
            "  Downloading https://files.pythonhosted.org/packages/7b/d1/fbfa79371a8cd9bb15c2e3c480d7e6e340ed5cc55005174e16f48418333a/pydub-0.24.1-py2.py3-none-any.whl\n",
            "Installing collected packages: pydub\n",
            "Successfully installed pydub-0.24.1\n"
          ],
          "name": "stdout"
        }
      ]
    },
    {
      "cell_type": "code",
      "metadata": {
        "colab": {
          "base_uri": "https://localhost:8080/"
        },
        "id": "7cWi_l7tWyBf",
        "outputId": "b05918a0-ba00-4760-a9e0-466b02d73965"
      },
      "source": [
        "from pathlib import Path\n",
        "from google.colab import drive\n",
        "import librosa\n",
        "from pydub import AudioSegment\n",
        "\n",
        "\n",
        "drive.mount('/content/drive')\n",
        "\n",
        "test_dir =Path.cwd() / '/content/drive/MyDrive/UNI/Machine Learning/genres_mini_training(.wav)/rock' #jana\n"
      ],
      "execution_count": 2,
      "outputs": [
        {
          "output_type": "stream",
          "text": [
            "Mounted at /content/drive\n"
          ],
          "name": "stdout"
        }
      ]
    },
    {
      "cell_type": "code",
      "metadata": {
        "id": "-pJPgh-F315w"
      },
      "source": [
        "def split_songs(song, from_sec, to_sec, split_filename):\n",
        "  t1 = from_sec\n",
        "  t2 = to_sec\n",
        "  newAudio = AudioSegment.from_wav(song)\n",
        "  newAudio = newAudio[t1:t2] #milliseconds\n",
        "  newAudio.export(split_filename, format=\"wav\") #Exports to a wav file in the current path.\n",
        "  return(newAudio.export(split_filename, format=\"wav\"))"
      ],
      "execution_count": 3,
      "outputs": []
    },
    {
      "cell_type": "code",
      "metadata": {
        "colab": {
          "base_uri": "https://localhost:8080/"
        },
        "id": "lVnzUDfX0CC4",
        "outputId": "52958652-ecd2-44b1-9534-918b2f612ed5"
      },
      "source": [
        "import glob\n",
        "songs = glob.glob('/content/drive/MyDrive/UNI/Machine Learning/genres_mini_training(.wav)/rock' + '/*.wav')\n",
        "i = 0\n",
        "for s in songs:\n",
        "  print(s)\n",
        "  for t in range(0,30, 3):\n",
        "    t=t*1000\n",
        "    split_songs(s, t, t+3000, \"Splitsong{number}_{time}.wav\".format(number = i, time=t))\n",
        "    #print(split_songs(s, t, t+3000, \"Song{number}_{time}.wav\".format(number = i, time=t)))\n",
        "  i= i+1"
      ],
      "execution_count": 7,
      "outputs": [
        {
          "output_type": "stream",
          "text": [
            "0\n",
            "3000\n",
            "6000\n",
            "9000\n",
            "12000\n",
            "15000\n",
            "18000\n",
            "21000\n",
            "24000\n",
            "27000\n",
            "0\n",
            "3000\n",
            "6000\n",
            "9000\n",
            "12000\n",
            "15000\n",
            "18000\n",
            "21000\n",
            "24000\n",
            "27000\n",
            "0\n",
            "3000\n",
            "6000\n",
            "9000\n",
            "12000\n",
            "15000\n",
            "18000\n",
            "21000\n",
            "24000\n",
            "27000\n"
          ],
          "name": "stdout"
        }
      ]
    }
  ]
}